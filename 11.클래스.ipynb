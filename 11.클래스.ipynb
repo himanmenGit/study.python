{
 "cells": [
  {
   "cell_type": "code",
   "execution_count": 8,
   "metadata": {},
   "outputs": [
    {
     "name": "stdout",
     "output_type": "stream",
     "text": [
      "<class 'str'>\n"
     ]
    }
   ],
   "source": [
    "#객체지향은 언어가 명령어의 모임이 아닌 \n",
    "#어떤 기능을 수행하는데 있어서 필요한 것을\n",
    "#독립적인 개체로 만들어서 사용하는 패러다임\n",
    "print(type('안녕하세요'))"
   ]
  },
  {
   "cell_type": "code",
   "execution_count": 9,
   "metadata": {},
   "outputs": [],
   "source": [
    "#클래스는 형태를 정의 한다... 모양,틀\n",
    "#클래스에 내용을 가지는 것이 인스턴스\n",
    "#하나의 클래스에 대해 여러개의 인스터를 생성 할 수 있다.\n",
    "#붕어빵(instance)과 붕어빵틀(class)"
   ]
  },
  {
   "cell_type": "code",
   "execution_count": 411,
   "metadata": {},
   "outputs": [],
   "source": [
    "#코드상에서 아무 일도 일어 나는 것은 아님\n",
    "#self는 어떤 객체가 해당 메서드를 사용 하는지 알 수 있도록 하기 위한 요소(?)변수\n",
    "#instance method를 만들때 첫번째 파라미터에는 self가 있어야 한다.\n",
    "#호출시 self가 항상 호출된다. 이름이 self일 필요는 없당.\n",
    "#@property를 이용하여 변수들의 getter와 setter를 만들 수 있다.\n",
    "class Shop:\n",
    "    __description = 'Python Shop class'\n",
    "    \n",
    "    SHOP_TYPE_FASTFOOD = '패스트푸드'\n",
    "    SHOP_TYPE_SLOWFOOD = '슬로우푸드'\n",
    "    \n",
    "    def __init__(self, name, shop_type, address):\n",
    "    #클래스의 초기화 메서드 __init__(self, ...):\n",
    "        self.__name = name\n",
    "        self.__shop_type = shop_type\n",
    "        self.__address = address\n",
    "    def show_name(self):        \n",
    "        print(self.name)\n",
    "    def show_info(self):\n",
    "        print(f'상점 (<{self.__name}>)')\n",
    "        print(f'유형 (<{self.__shop_type}>)')\n",
    "        print(f' 주소 (<{self.__address}>)')        \n",
    "    def change_type(self, changed_type):\n",
    "        if changed_type in [Shop.SHOP_TYPE_FASTFOOD, Shop.SHOP_TYPE_SLOWFOOD]:\n",
    "            self.__shop_type = changed_type\n",
    "            print('\\t▽')\n",
    "\n",
    "    def get_name(self):\n",
    "        return self.__name\n",
    "    def set_name(self, name):\n",
    "        self.__name = name\n",
    "        \n",
    "    def get_shop_type(self):\n",
    "        return self.__shop_type\n",
    "    def set_shop_type(self, shop_type):\n",
    "        self.__shop_type = shop_type"
   ]
  },
  {
   "cell_type": "raw",
   "metadata": {},
   "source": [
    "# lotteria = Shop('롯데리아', Shop.SHOP_TYPE_FASTFOOD, '서울시 강남구')\n",
    "lotteria = Shop(\n",
    "    name='롯데리아',\n",
    "    shop_type=Shop'패스트푸드',\n",
    "    address='서울시 강남구'\n",
    ")\n",
    "mcdonald = Shop('맥도날드', Shop.SHOP_TYPE_FASTFOOD, '서울시 관악구')"
   ]
  },
  {
   "cell_type": "code",
   "execution_count": 412,
   "metadata": {},
   "outputs": [
    {
     "name": "stdout",
     "output_type": "stream",
     "text": [
      "패스트푸드 (롯데리아)\n",
      "  주소 (서울시 강남구)\n",
      "\t▽\n",
      "슬로우푸드 (롯데리아)\n",
      "  주소 (서울시 강남구)\n"
     ]
    }
   ],
   "source": [
    "lotteria.show_info()\n",
    "lotteria.change_type(Shop.SHOP_TYPE_SLOWFOOD)\n",
    "lotteria.shop_type = '학원'\n",
    "lotteria.change_type('학원')\n",
    "lotteria.show_info()"
   ]
  },
  {
   "cell_type": "code",
   "execution_count": 413,
   "metadata": {},
   "outputs": [],
   "source": [
    "####캡슣화####\n",
    "#객체의 속성과 행위를 하나로 묶고\n",
    "#실제 구현 내용 일부를 외부로 부터 감추는 것\n",
    "#접근 지정자를 두어 은닉의 정도를 기술하여 구현\n",
    "#하지만 python에서는 private 객체에 대해서 접근하는 것은 불가능 하지 않다.\n",
    "#public 은 일반 변수 선언\n",
    "#private 는 __변수 선언 (언더스코어 두개)\n",
    "#protected는 _변수 선언 (언더스코어 한개)\n",
    "#해당 클래스의 _클래스명__속성__으로 접근 가능하다."
   ]
  },
  {
   "cell_type": "code",
   "execution_count": 414,
   "metadata": {},
   "outputs": [],
   "source": [
    "class Character:\n",
    "    def __init__(self, name):\n",
    "        self.name = name\n",
    "        self.money = 0\n",
    "    def fight(self, monster):\n",
    "        self.money += 100\n",
    "    def ending(self):\n",
    "        self.is_ending = True"
   ]
  },
  {
   "cell_type": "code",
   "execution_count": 415,
   "metadata": {},
   "outputs": [],
   "source": [
    "chul = Character('철수')"
   ]
  },
  {
   "cell_type": "code",
   "execution_count": 416,
   "metadata": {},
   "outputs": [
    {
     "data": {
      "text/plain": [
       "100"
      ]
     },
     "execution_count": 416,
     "metadata": {},
     "output_type": "execute_result"
    }
   ],
   "source": [
    "chul.fight('영희')\n",
    "chul.money"
   ]
  },
  {
   "cell_type": "code",
   "execution_count": 417,
   "metadata": {},
   "outputs": [
    {
     "name": "stdout",
     "output_type": "stream",
     "text": [
      "학원\n"
     ]
    },
    {
     "ename": "AttributeError",
     "evalue": "'Shop' object has no attribute '_Shop__shop_type'",
     "output_type": "error",
     "traceback": [
      "\u001b[0;31m---------------------------------------------------------------------------\u001b[0m",
      "\u001b[0;31mAttributeError\u001b[0m                            Traceback (most recent call last)",
      "\u001b[0;32m<ipython-input-417-bcf1ed95d639>\u001b[0m in \u001b[0;36m<module>\u001b[0;34m()\u001b[0m\n\u001b[1;32m      1\u001b[0m \u001b[0mprint\u001b[0m\u001b[0;34m(\u001b[0m\u001b[0mlotteria\u001b[0m\u001b[0;34m.\u001b[0m\u001b[0mshop_type\u001b[0m\u001b[0;34m)\u001b[0m\u001b[0;34m\u001b[0m\u001b[0m\n\u001b[0;32m----> 2\u001b[0;31m \u001b[0mprint\u001b[0m\u001b[0;34m(\u001b[0m\u001b[0mlotteria\u001b[0m\u001b[0;34m.\u001b[0m\u001b[0m_Shop__shop_type\u001b[0m\u001b[0;34m)\u001b[0m\u001b[0;34m\u001b[0m\u001b[0m\n\u001b[0m\u001b[1;32m      3\u001b[0m \u001b[0mlotteria\u001b[0m\u001b[0;34m.\u001b[0m\u001b[0m_Shop__shop_type\u001b[0m \u001b[0;34m=\u001b[0m \u001b[0;34m'어딘가'\u001b[0m\u001b[0;34m\u001b[0m\u001b[0m\n\u001b[1;32m      4\u001b[0m \u001b[0mprint\u001b[0m\u001b[0;34m(\u001b[0m\u001b[0mlotteria\u001b[0m\u001b[0;34m.\u001b[0m\u001b[0m_Shop__shop_type\u001b[0m\u001b[0;34m)\u001b[0m\u001b[0;34m\u001b[0m\u001b[0m\n",
      "\u001b[0;31mAttributeError\u001b[0m: 'Shop' object has no attribute '_Shop__shop_type'"
     ]
    }
   ],
   "source": [
    "print(lotteria.shop_type)\n",
    "print(lotteria._Shop__shop_type)\n",
    "lotteria._Shop__shop_type = '어딘가'\n",
    "print(lotteria._Shop__shop_type)"
   ]
  },
  {
   "cell_type": "code",
   "execution_count": 418,
   "metadata": {},
   "outputs": [
    {
     "name": "stdout",
     "output_type": "stream",
     "text": [
      "슬로우푸드 (롯데리아)\n",
      "  주소 (서울시 강남구)\n"
     ]
    }
   ],
   "source": [
    "lotteria.show_info()"
   ]
  },
  {
   "cell_type": "code",
   "execution_count": 419,
   "metadata": {},
   "outputs": [],
   "source": [
    "#코드상에서 아무 일도 일어 나는 것은 아님\n",
    "#self는 어떤 객체가 해당 메서드를 사용 하는지 알 수 있도록 하기 위한 요소(?)변수\n",
    "#instance method를 만들때 첫번째 파라미터에는 self가 있어야 한다.\n",
    "#호출시 self가 항상 호출된다. 이름이 self일 필요는 없당.\n",
    "#@property를 이용하여 변수들의 getter와 setter를 만들 수 있다.\n",
    "class Shop:\n",
    "    __description = 'Python Shop class'\n",
    "    \n",
    "    SHOP_TYPE_FASTFOOD = '패스트푸드'\n",
    "    SHOP_TYPE_SLOWFOOD = '슬로우푸드'\n",
    "    \n",
    "    def __init__(self, name, shop_type, address):\n",
    "    #클래스의 초기화 메서드 __init__(self, ...):\n",
    "        self.__name = name\n",
    "        self.__shop_type = shop_type\n",
    "        self.__address = address\n",
    "    def show_name(self):        \n",
    "        print(self.name)\n",
    "    def show_info(self):\n",
    "        print(f'상점 (<{self.__name}>)')\n",
    "        print(f'유형 (<{self.__shop_type}>)')\n",
    "        print(f' 주소 (<{self.__address}>)')        \n",
    "    def change_type(self, changed_type):\n",
    "        if changed_type in [Shop.SHOP_TYPE_FASTFOOD, Shop.SHOP_TYPE_SLOWFOOD]:\n",
    "            self.__shop_type = changed_type\n",
    "            print('\\t▽')\n",
    "\n",
    "#########################################\n",
    "#     def get_name(self):\n",
    "#         return self.__name\n",
    "#     def set_name(self, name):\n",
    "#         self.__name = name\n",
    "        \n",
    "#     def get_shop_type(self):\n",
    "#         return self.__shop_type\n",
    "#     def set_shop_type(self, shop_type):\n",
    "#         self.__shop_type = shop_type\n",
    "#########################################\n",
    "#   ▽\n",
    "    @property\n",
    "    def name(self):\n",
    "        return self.__name\n",
    "    @name.setter\n",
    "    def name(self, new_name):\n",
    "        if '패스트' not in new_name:\n",
    "            self.__name = new_name\n",
    "        else:\n",
    "            print('\"패스트\"는 상점이름에 포함될 수 없습니다.')"
   ]
  },
  {
   "cell_type": "code",
   "execution_count": 420,
   "metadata": {},
   "outputs": [],
   "source": [
    "lotteria = Shop(\n",
    "    name='롯데리아',\n",
    "    shop_type='패스트푸드',\n",
    "    address='서울시 강남구'\n",
    ")"
   ]
  },
  {
   "cell_type": "code",
   "execution_count": 242,
   "metadata": {},
   "outputs": [
    {
     "name": "stdout",
     "output_type": "stream",
     "text": [
      "\"패스트\"는 상점이름에 포함될 수 없습니다.\n",
      "상점 (<a>)\n",
      "유형 (<패스트푸드>)\n",
      " 주소 (<서울시 강남구>)\n"
     ]
    }
   ],
   "source": [
    "lotteria.name = '패스트캠퍼스'\n",
    "lotteria.show_info()"
   ]
  },
  {
   "cell_type": "code",
   "execution_count": 241,
   "metadata": {},
   "outputs": [
    {
     "name": "stdout",
     "output_type": "stream",
     "text": [
      "상점 (<a>)\n",
      "유형 (<패스트푸드>)\n",
      " 주소 (<서울시 강남구>)\n"
     ]
    }
   ],
   "source": [
    "lotteria.name = 'a'\n",
    "lotteria.show_info()"
   ]
  },
  {
   "cell_type": "code",
   "execution_count": 329,
   "metadata": {},
   "outputs": [],
   "source": [
    "##################상속#################\n",
    "class Shop:\n",
    "    description = 'Python Shop class'\n",
    "        \n",
    "    def __init__(self, name, address, shop_type='상점'):\n",
    "    #클래스의 초기화 메서드 __init__(self, ...):\n",
    "        self._name = name\n",
    "        self._address = address\n",
    "        self._shop_type = shop_type\n",
    "    def get_info_string(self):\n",
    "        ret = ''\n",
    "        ret += f'{self._shop_type} ({self._name})'\n",
    "        ret += f'\\n  주소 ({self._address})'\n",
    "        #         ret += f'\\n  유형 ({self._shop_type})''\n",
    "        return ret\n",
    "    def show_info(self):\n",
    "        print(self.get_info_string())\n",
    "    def change_type(self, changed_type):\n",
    "        if changed_type in ['패스트푸드','슬로우푸드']:\n",
    "            self._shop_type = changed_type\n",
    "            print('\\t▽')\n",
    "            \n",
    "    @property\n",
    "    def name(self):\n",
    "        return self._name\n",
    "    @name.setter\n",
    "    def name(self, new_name):\n",
    "        if '패스트' not in new_name:\n",
    "            self._name = new_name\n",
    "        else:\n",
    "            print('\"패스트\"는 상점이름에 포함될 수 없습니다.')\n",
    "            \n",
    "class Restaurant(Shop): \n",
    "    def __init__(self, name, address):\n",
    "        super().__init__(name, address, shop_type='식당')\n",
    "        "
   ]
  },
  {
   "cell_type": "code",
   "execution_count": 337,
   "metadata": {},
   "outputs": [
    {
     "name": "stdout",
     "output_type": "stream",
     "text": [
      "학원 (패스트캠퍼스)\n",
      "  주소 (강남)\n"
     ]
    }
   ],
   "source": [
    "r1 = Shop(\n",
    "    name='패스트캠퍼스',\n",
    "    address='강남',\n",
    "    shop_type='학원',\n",
    "    )\n",
    "\n",
    "r1.show_info()"
   ]
  },
  {
   "cell_type": "code",
   "execution_count": 338,
   "metadata": {},
   "outputs": [
    {
     "name": "stdout",
     "output_type": "stream",
     "text": [
      "식당 (빕스)\n",
      "  주소 (어딘가)\n"
     ]
    }
   ],
   "source": [
    "s1 = Restaurant(\n",
    "    name='빕스',\n",
    "    address='어딘가'\n",
    "    )\n",
    "s1.show_info()"
   ]
  },
  {
   "cell_type": "code",
   "execution_count": 434,
   "metadata": {},
   "outputs": [],
   "source": [
    "import random\n",
    "\n",
    "class Pokemon:\n",
    "    def __init__(self, name, type):\n",
    "        self.name = name\n",
    "        self.type = type\n",
    "    \n",
    "    def __str__(self):\n",
    "        return f'{self.type}형 포켓몬 입니다.'\n",
    "    \n",
    "    #클래스 메소드로 인스턴스를 만들 경우 넘어오는 cls를 통하여 객체를\n",
    "    #생성하여야 만들고 싶은 객체로 만들 수 있다.\n",
    "    @classmethod\n",
    "    def dummy_pokemon(cls):\n",
    "        return cls(name='알 수 없음', type='알 수 없음')\n",
    "    \n",
    "    ##정적 메소드로 해당 인스턴스를 생성하는 방법##\n",
    "    ##@staticmethod는 self 아큐먼트를 사용 할 수 없다.\n",
    "    ##영향을 줄 수 없다.\n",
    "    @staticmethod #decoration이라고 부름\n",
    "    def electric():\n",
    "        pokemons = ('피카츄', '라이츄', '붐불')\n",
    "        selected_pokemon = random.choice(pokemons)\n",
    "        return Pokemon(selected_pokemon, '전기')\n",
    "    \n",
    "    @staticmethod\n",
    "    def water():\n",
    "        pokemons = ('꼬북;', '아쿠스타', '라프라스')\n",
    "        selected_pokemon = random.choice(pokemons)\n",
    "        return Pokemon(selected_pokemon, '물')\n",
    "    \n",
    "class WaterPokemon(Pokemon):\n",
    "    def water_gun(self):\n",
    "        print('물대포 발사')\n",
    "        "
   ]
  },
  {
   "cell_type": "code",
   "execution_count": 388,
   "metadata": {},
   "outputs": [
    {
     "name": "stdout",
     "output_type": "stream",
     "text": [
      "피카츄\n"
     ]
    }
   ],
   "source": [
    "random_electric_pokemon = Pokemon.electric()\n",
    "print(random_electric_pokemon.name)"
   ]
  },
  {
   "cell_type": "code",
   "execution_count": 389,
   "metadata": {},
   "outputs": [
    {
     "name": "stdout",
     "output_type": "stream",
     "text": [
      "알 수 없음\n",
      "<class '__main__.Pokemon'>\n",
      "<class '__main__.Pokemon'>\n",
      "알 수 없음\n",
      "<class '__main__.WaterPokemon'>\n",
      "<class '__main__.WaterPokemon'>\n",
      "물대포 발사\n"
     ]
    }
   ],
   "source": [
    "dummy = Pokemon.dummy_pokemon()\n",
    "print(dummy.name)\n",
    "print(Pokemon)\n",
    "print(type(dummy))\n",
    "\n",
    "dummy2 = WaterPokemon.dummy_pokemon()\n",
    "print(dummy2.name)\n",
    "print(WaterPokemon)\n",
    "print(type(dummy2))\n",
    "dummy2.water_gun()"
   ]
  },
  {
   "cell_type": "code",
   "execution_count": 429,
   "metadata": {},
   "outputs": [],
   "source": [
    "################################################\n",
    "################# 다형성 동적 바인딩################\n",
    "################################################\n",
    "#한가지 형태(코드)가 여러가지 역활을 하는 것...\n",
    "#하나의 함수가 여러타입의 객체를 처리할 수 있도록 설꼐 되어 있음.\n",
    "\n",
    "def do_attack(something_instance):\n",
    "    something_instance.attack()"
   ]
  },
  {
   "cell_type": "code",
   "execution_count": 435,
   "metadata": {},
   "outputs": [
    {
     "name": "stdout",
     "output_type": "stream",
     "text": [
      "100만 볼트\n",
      "알수없는 공격\n",
      "햄버거 공격\n"
     ]
    }
   ],
   "source": [
    "def pikachu_attack():\n",
    "    print('100만 볼트')\n",
    "pikachu = Pokemon('피카츄', '전기')\n",
    "pikachu.attack = pikachu_attack\n",
    "dummy.attack = lambda: print('알수없는 공격')\n",
    "lotteria.attack = lambda: print('햄버거 공격')\n",
    "                                 \n",
    "do_attack(pikachu)\n",
    "do_attack(dummy)\n",
    "do_attack(lotteria)"
   ]
  },
  {
   "cell_type": "code",
   "execution_count": 436,
   "metadata": {},
   "outputs": [
    {
     "data": {
      "text/plain": [
       "'전기형 포켓몬 입니다.'"
      ]
     },
     "execution_count": 436,
     "metadata": {},
     "output_type": "execute_result"
    }
   ],
   "source": [
    "pikachu.__str__()"
   ]
  },
  {
   "cell_type": "code",
   "execution_count": 528,
   "metadata": {},
   "outputs": [],
   "source": [
    "####실습####\n",
    "#python에서는 다형성에 대한 부분이 동적으로 가능 하기 때문에\n",
    "#정적 언어에서 처럼 해당 객체의 타입에 따라 속성을 바인딩 하는것이 아니라\n",
    "#어떤객체든 해당 속성만 있으면 바인딩이 가능하다\n",
    "#그래서 instance메소드가 같다면 동적으로 바인딩이 가능하다\n",
    "\n",
    "class User:\n",
    "    def __init__(self, name = '', attack = 0, defense = 0):\n",
    "        self.name = name\n",
    "        self.attack = attack\n",
    "        self.defense = defense\n",
    "        \n",
    "    def equip(self, item):\n",
    "        print(f'{self.name}이/가 {item}(을/를) 장착 합니다.')\n",
    "        item.use(self)\n",
    "        \n",
    "    def __str__(self):\n",
    "        return f'name : {self.name}\\nattack : {self.attack}\\ndefense : {self.defense}'\n",
    "        \n",
    "class Sword():\n",
    "    def use(self, user):\n",
    "        user.attack += 10\n",
    "    def __str__(self):\n",
    "        return '롱소드'\n",
    "    \n",
    "class Shield():\n",
    "    def use(self, user):\n",
    "        user.defense += 20\n",
    "    def __str__(self):\n",
    "        return '나무방패'"
   ]
  },
  {
   "cell_type": "code",
   "execution_count": 529,
   "metadata": {},
   "outputs": [],
   "source": [
    "sw = Sword()\n",
    "sh = Shield()\n",
    "\n",
    "sumin = User('수민', 10, 20)"
   ]
  },
  {
   "cell_type": "code",
   "execution_count": 530,
   "metadata": {},
   "outputs": [
    {
     "name": "stdout",
     "output_type": "stream",
     "text": [
      "name : 수민\n",
      "attack : 10\n",
      "defense : 20\n",
      "수민이/가 롱소드(을/를) 장착 합니다.\n",
      "name : 수민\n",
      "attack : 20\n",
      "defense : 20\n",
      "수민이/가 나무방패(을/를) 장착 합니다.\n",
      "name : 수민\n",
      "attack : 20\n",
      "defense : 40\n"
     ]
    }
   ],
   "source": [
    "print(sumin)\n",
    "sumin.equip(sw)\n",
    "print(sumin)\n",
    "sumin.equip(sh)\n",
    "print(sumin)"
   ]
  },
  {
   "cell_type": "code",
   "execution_count": null,
   "metadata": {},
   "outputs": [],
   "source": []
  },
  {
   "cell_type": "code",
   "execution_count": null,
   "metadata": {},
   "outputs": [],
   "source": []
  }
 ],
 "metadata": {
  "kernelspec": {
   "display_name": "Python 3",
   "language": "python",
   "name": "python3"
  },
  "language_info": {
   "codemirror_mode": {
    "name": "ipython",
    "version": 3
   },
   "file_extension": ".py",
   "mimetype": "text/x-python",
   "name": "python",
   "nbconvert_exporter": "python",
   "pygments_lexer": "ipython3",
   "version": "3.6.4"
  }
 },
 "nbformat": 4,
 "nbformat_minor": 2
}
