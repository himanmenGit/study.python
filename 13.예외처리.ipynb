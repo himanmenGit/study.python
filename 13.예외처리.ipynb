{
 "cells": [
  {
   "cell_type": "code",
   "execution_count": 24,
   "metadata": {},
   "outputs": [
    {
     "name": "stdout",
     "output_type": "stream",
     "text": [
      "===============================\n",
      "IndexError: list index out of range\n",
      "Traceback (most recent call last):\n",
      "  File \"<ipython-input-24-4b5b9b2e5220>\", line 12, in <module>\n",
      "    list1[500]\n",
      "IndexError: list index out of range\n",
      "항상실행\n",
      "===============================\n"
     ]
    }
   ],
   "source": [
    "import sys, traceback\n",
    "\n",
    "list1 = list(range(100))\n",
    "dict1 = {\n",
    "    'one' : 1,\n",
    "    'two' : 2,\n",
    "}\n",
    "\n",
    "print(\"===============================\")\n",
    "\n",
    "try:\n",
    "    list1[500]\n",
    "    dict1['three']\n",
    "except IndexError as e:\n",
    "    print(f'IndexError: {e}')\n",
    "    traceback.print_exc(file=sys.stdout)\n",
    "except KeyError as e:\n",
    "    print(f'KeyError: {e}')\n",
    "    traceback.print_exc(file=sys.stdout)\n",
    "else:\n",
    "    print('에러없음\\n')\n",
    "finally:\n",
    "    print('항상실행')\n",
    "\n",
    "print(\"===============================\")\n"
   ]
  },
  {
   "cell_type": "code",
   "execution_count": 49,
   "metadata": {},
   "outputs": [],
   "source": [
    "def return_input_value_to_int():\n",
    "    value = input('숫자를 입력해주세요: ')\n",
    "    if not value.isdigit():\n",
    "        raise ValueError('숫자만 입력 가능합니다.')    \n",
    "    return int(value)"
   ]
  },
  {
   "cell_type": "code",
   "execution_count": 54,
   "metadata": {},
   "outputs": [
    {
     "name": "stdout",
     "output_type": "stream",
     "text": [
      "숫자를 입력해주세요: 1\n",
      "1 * 1 = 1\n"
     ]
    }
   ],
   "source": [
    "try:\n",
    "    value = return_input_value_to_int()\n",
    "    print(f'{value} * {value} = {value * value}')\n",
    "except ValueError as e:\n",
    "    print(e)"
   ]
  },
  {
   "cell_type": "code",
   "execution_count": 69,
   "metadata": {},
   "outputs": [],
   "source": [
    "class customError(Exception):\n",
    "#     pass\n",
    "    def __str__(self):\n",
    "        return f'커스텀 에러 입니다.'"
   ]
  },
  {
   "cell_type": "code",
   "execution_count": 70,
   "metadata": {},
   "outputs": [],
   "source": [
    "def return_input_value_to_int():\n",
    "    value = input('숫자를 입력해주세요: ')\n",
    "    if not value.isdigit():\n",
    "#         raise customError('커스텀 숫자만 입력 가능합니다.')\n",
    "        raise customError\n",
    "    return int(value)"
   ]
  },
  {
   "cell_type": "code",
   "execution_count": 71,
   "metadata": {},
   "outputs": [
    {
     "name": "stdout",
     "output_type": "stream",
     "text": [
      "숫자를 입력해주세요: ㅁㄴㅇ\n",
      "커스텀 에러 입니다.\n"
     ]
    }
   ],
   "source": [
    "try:\n",
    "    value = return_input_value_to_int()\n",
    "    print(f'{value} * {value} = {value * value}')\n",
    "except customError as e:\n",
    "    print(e)"
   ]
  },
  {
   "cell_type": "code",
   "execution_count": null,
   "metadata": {},
   "outputs": [],
   "source": []
  }
 ],
 "metadata": {
  "kernelspec": {
   "display_name": "Python 3",
   "language": "python",
   "name": "python3"
  },
  "language_info": {
   "codemirror_mode": {
    "name": "ipython",
    "version": 3
   },
   "file_extension": ".py",
   "mimetype": "text/x-python",
   "name": "python",
   "nbconvert_exporter": "python",
   "pygments_lexer": "ipython3",
   "version": "3.6.4"
  }
 },
 "nbformat": 4,
 "nbformat_minor": 2
}
