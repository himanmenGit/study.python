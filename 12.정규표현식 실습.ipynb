{
 "cells": [
  {
   "cell_type": "code",
   "execution_count": 1,
   "metadata": {},
   "outputs": [],
   "source": [
    "import re\n",
    "\n",
    "s = '''Born to the prestigious Crownguards, the paragon family of Demacian service, Luxanna was destined for greatness. She grew up as the family's only daughter, and she immediately took to the advanced education and lavish parties required of families as high profile as the Crownguards. As Lux matured, it became clear that she was extraordinarily gifted. She could play tricks that made people believe they had seen things that did not actually exist. She could also hide in plain sight. Somehow, she was able to reverse engineer arcane magical spells after seeing them cast only once. She was hailed as a prodigy, drawing the affections of the Demacian government, military, and citizens alike.\n",
    "\n",
    "As one of the youngest women to be tested by the College of Magic, she was discovered to possess a unique command over the powers of light. The young Lux viewed this as a great gift, something for her to embrace and use in the name of good. Realizing her unique skills, the Demacian military recruited and trained her in covert operations. She quickly became renowned for her daring achievements; the most dangerous of which found her deep in the chambers of the Noxian High Command. She extracted valuable inside information about the Noxus-Ionian conflict, earning her great favor with Demacians and Ionians alike. However, reconnaissance and surveillance was not for her. A light of her people, Lux's true calling was the League of Legends, where she could follow in her brother's footsteps and unleash her gifts as an inspiration for all of Demacia.'''"
   ]
  },
  {
   "cell_type": "code",
   "execution_count": 19,
   "metadata": {},
   "outputs": [
    {
     "name": "stdout",
     "output_type": "stream",
     "text": [
      "[' also ', ' able ']\n"
     ]
    }
   ],
   "source": [
    "#1. {m}패턴지정자를 사용해서 a로 시작하는 4글자 단어를 전부 찾는다.\n",
    "\n",
    "pattern = re.compile(r'\\ba\\w{3}\\b')\n",
    "\n",
    "# 공백문자가 아니라 단어경계 표현식을 사용\n",
    "m = re.findall(r'\\sa\\w{3}\\s',s )\n",
    "# m = re.findall(r'\\ba\\w{3}\\b',s )\n",
    "print(m)"
   ]
  },
  {
   "cell_type": "code",
   "execution_count": 20,
   "metadata": {
    "scrolled": true
   },
   "outputs": [
    {
     "name": "stdout",
     "output_type": "stream",
     "text": [
      "['for', 'daughter', 'clear', 'engineer', 'after', 'over', 'for', 'her', 'her', 'her', 'for', 'her', 'her', 'her', 'favor', 'However', 'for', 'her', 'her', 'her', 'brother', 'her', 'for']\n"
     ]
    }
   ],
   "source": [
    "#2. r로 끝나는 모든 단어를 찾는다.\n",
    "#마찬가지 단어 경계 표현식을 사용 해야함\n",
    "# m = re.findall(r'\\w+r\\s', s)\n",
    "m = re.findall(r'\\b\\w+r\\b', s)\n",
    "print(m)"
   ]
  },
  {
   "cell_type": "code",
   "execution_count": 29,
   "metadata": {},
   "outputs": [
    {
     "name": "stdout",
     "output_type": "stream",
     "text": [
      "['became', 'became']\n"
     ]
    }
   ],
   "source": [
    "#3. a,b,c,d,e중 아무 문자나 3번 연속으로 들어간 단어를 찾는다.\n",
    "# m = re.findall(r'\\w*[a-e]{3}\\w*', s)\n",
    "#\\w+와 \\w*의 차이!?\n",
    "#\\w+는 문자가 무조건 있어야 하지만 \\w*는 없어도 되기 떄문에 앞 뒤의 \n",
    "#빈 문자에 대하여 검색 가능 하다.\n",
    "m = re.findall(r'\\w*[abcde]{3}\\w*', s)\n",
    "print(m)"
   ]
  },
  {
   "cell_type": "code",
   "execution_count": 24,
   "metadata": {
    "scrolled": true
   },
   "outputs": [
    {
     "name": "stdout",
     "output_type": "stream",
     "text": [
      "Born to the prestigious CROWNGUARDS,[the] paragon family of Demacian SERVICE,[Luxanna] was destined for greatness. She grew up as the family's only DAUGHTER,[and] she immediately took to the advanced education and lavish parties required of families as high profile as the Crownguards. As Lux MATURED,[it] became clear that she was extraordinarily gifted. She could play tricks that made people believe they had seen things that did not actually exist. She could also hide in plain sight. SOMEHOW,[she] was able to reverse engineer arcane magical spells after seeing them cast only once. She was hailed as a PRODIGY,[drawing] the affections of the Demacian GOVERNMENT,[military], and citizens alike.\n",
      "\n",
      "As one of the youngest women to be tested by the College of MAGIC,[she] was discovered to possess a unique command over the powers of light. The young Lux viewed this as a great GIFT,[something] for her to embrace and use in the name of good. Realizing her unique SKILLS,[the] Demacian military recruited and trained her in covert operations. She quickly became renowned for her daring achievements; the most dangerous of which found her deep in the chambers of the Noxian High Command. She extracted valuable inside information about the Noxus-Ionian CONFLICT,[earning] her great favor with Demacians and Ionians alike. HOWEVER,[reconnaissance] and surveillance was not for her. A light of her PEOPLE,[Lux]'s true calling was the League of LEGENDS,[where] she could follow in her brother's footsteps and unleash her gifts as an inspiration for all of Demacia.\n"
     ]
    }
   ],
   "source": [
    "#4. re.sub를 사용해서 ,로 구분된 앞/뒤 단어에 대해 앞단어는 대문자화 시키고,\n",
    "#뒷단어는 대괄호로 감싼다. 이 과정에서, 각각의 앞/뒤에 \n",
    "#before, after그룹 이름을 사용한다.\n",
    "def replace_pattern(matchobj):\n",
    "    return matchobj.group('before').upper()+','+'['+matchobj.group('after')+']'\n",
    "    \n",
    "# m = re.sub(r'((?P<before>\\w+),\\s(?P<after>\\w+))', replace_pattern, s)\n",
    "m = re.sub(r'((?P<before>\\w+)\\s*,\\s*(?P<after>\\w+))', replace_pattern, s)\n",
    "print(m)\n",
    "\n",
    "# re.sub(pattern, string(일반적인 문자열 이다 하지만\\g는 정규표현식으로 인식한다))\n",
    "# \\g는 그룹이름을 표현할때 사용한다.\n",
    "# re.sub(p, r'\\g<after>, \\g<before>')\n",
    "\n",
    "# for match_object in re.finditer(p, s):\n",
    "#     print(match_object.group('before'))\n",
    "#     print(match_object.group('after'))\n",
    "#     print(\"\")"
   ]
  }
 ],
 "metadata": {
  "kernelspec": {
   "display_name": "Python 3",
   "language": "python",
   "name": "python3"
  },
  "language_info": {
   "codemirror_mode": {
    "name": "ipython",
    "version": 3
   },
   "file_extension": ".py",
   "mimetype": "text/x-python",
   "name": "python",
   "nbconvert_exporter": "python",
   "pygments_lexer": "ipython3",
   "version": "3.6.4"
  }
 },
 "nbformat": 4,
 "nbformat_minor": 2
}
